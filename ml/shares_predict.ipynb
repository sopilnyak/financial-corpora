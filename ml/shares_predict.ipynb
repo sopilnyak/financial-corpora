{
  "nbformat": 4,
  "nbformat_minor": 0,
  "metadata": {
    "colab": {
      "name": "shares_predict.ipynb",
      "version": "0.3.2",
      "provenance": [],
      "collapsed_sections": [],
      "toc_visible": true
    },
    "kernelspec": {
      "name": "python3",
      "display_name": "Python 3"
    },
    "accelerator": "GPU"
  },
  "cells": [
    {
      "metadata": {
        "id": "LjAjeq0_X_pg",
        "colab_type": "code",
        "colab": {}
      },
      "cell_type": "code",
      "source": [
        "from tqdm import tqdm\n",
        "import re\n",
        "import os\n",
        "import pandas as pd\n",
        "from datetime import datetime"
      ],
      "execution_count": 0,
      "outputs": []
    },
    {
      "metadata": {
        "id": "PYphuyRsx4md",
        "colab_type": "code",
        "outputId": "3277ef63-e5b3-41ec-e80f-057a878063cb",
        "colab": {
          "resources": {
            "http://localhost:8080/nbextensions/google.colab/files.js": {
              "data": "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",
              "ok": true,
              "headers": [
                [
                  "content-type",
                  "application/javascript"
                ]
              ],
              "status": 200,
              "status_text": ""
            }
          },
          "base_uri": "https://localhost:8080/",
          "height": 89
        }
      },
      "cell_type": "code",
      "source": [
        "from google.colab import files\n",
        "\n",
        "uploaded = files.upload()\n",
        "\n",
        "for fn in uploaded.keys():\n",
        "    print('User uploaded file \"{name}\" with length {length} bytes'.format(\n",
        "        name=fn, length=len(uploaded[fn])))"
      ],
      "execution_count": 130,
      "outputs": [
        {
          "output_type": "display_data",
          "data": {
            "text/html": [
              "\n",
              "     <input type=\"file\" id=\"files-caf8a531-9bff-4bc8-8ec1-80fe10efefae\" name=\"files[]\" multiple disabled />\n",
              "     <output id=\"result-caf8a531-9bff-4bc8-8ec1-80fe10efefae\">\n",
              "      Upload widget is only available when the cell has been executed in the\n",
              "      current browser session. Please rerun this cell to enable.\n",
              "      </output>\n",
              "      <script src=\"/nbextensions/google.colab/files.js\"></script> "
            ],
            "text/plain": [
              "<IPython.core.display.HTML object>"
            ]
          },
          "metadata": {
            "tags": []
          }
        },
        {
          "output_type": "stream",
          "text": [
            "Saving data.pkl to data (1).pkl\n",
            "User uploaded file \"data.pkl\" with length 207383 bytes\n"
          ],
          "name": "stdout"
        }
      ]
    },
    {
      "metadata": {
        "id": "2JYUpzrBgqy3",
        "colab_type": "code",
        "colab": {}
      },
      "cell_type": "code",
      "source": [
        "import pickle\n",
        "from tqdm import tqdm\n",
        "import numpy as np\n",
        "\n",
        "import nltk\n",
        "from nltk.stem import WordNetLemmatizer"
      ],
      "execution_count": 0,
      "outputs": []
    },
    {
      "metadata": {
        "id": "ie5ES_2TgyCX",
        "colab_type": "code",
        "colab": {}
      },
      "cell_type": "code",
      "source": [
        "data = pickle.load(open('data.pkl', 'rb'))\n",
        "\n",
        "nltk.download('punkt')\n",
        "nltk.download('wordnet')\n",
        "\n",
        "lemmatizer = WordNetLemmatizer()"
      ],
      "execution_count": 0,
      "outputs": []
    },
    {
      "metadata": {
        "id": "v1VqnfSdvnTC",
        "colab_type": "code",
        "colab": {}
      },
      "cell_type": "code",
      "source": [
        "def generate_article():\n",
        "    \n",
        "    for i in range(len(data['articles'])):\n",
        "    \n",
        "        text = data['articles'][i]\n",
        "        tickers = [ticker.split(':')[-1] for ticker in data['tickers'][i]]\n",
        "        targets = data['prices'][i]\n",
        "\n",
        "        words = []\n",
        "        is_ticker = []\n",
        "        prices = []\n",
        "\n",
        "        for word in nltk.word_tokenize(text):\n",
        "            \n",
        "            if word in tickers:\n",
        "                is_ticker.append(True)\n",
        "                ticker_index = tickers.index(word)\n",
        "                prices.append(targets[ticker_index])\n",
        "            else:\n",
        "                word = word.lower()\n",
        "                word = lemmatizer.lemmatize(word)\n",
        "\n",
        "                is_ticker.append(False)\n",
        "                prices.append('O')\n",
        "                \n",
        "            words.append(word)\n",
        "\n",
        "        assert len(words) == len(is_ticker) == len(prices)\n",
        "    \n",
        "        yield words, is_ticker, prices"
      ],
      "execution_count": 0,
      "outputs": []
    },
    {
      "metadata": {
        "id": "x6f2Mv_n2x3n",
        "colab_type": "code",
        "outputId": "79d3325f-f921-4f89-d885-c5dde4546cfd",
        "colab": {
          "base_uri": "https://localhost:8080/",
          "height": 33
        }
      },
      "cell_type": "code",
      "source": [
        "articles = [article for article in tqdm(generate_article())]"
      ],
      "execution_count": 135,
      "outputs": [
        {
          "output_type": "stream",
          "text": [
            "120it [00:00, 223.20it/s]\n"
          ],
          "name": "stderr"
        }
      ]
    },
    {
      "metadata": {
        "id": "c7A3hN0n460e",
        "colab_type": "code",
        "colab": {}
      },
      "cell_type": "code",
      "source": [
        "tags = pickle.load(open('tags.pkl', 'rb'))\n",
        "word2ind = pickle.load(open('word2ind.pkl', 'rb'))\n",
        "words = pickle.load(open('words.pkl', 'rb'))"
      ],
      "execution_count": 0,
      "outputs": []
    },
    {
      "metadata": {
        "id": "QuRZOaNBWTHN",
        "colab_type": "code",
        "colab": {}
      },
      "cell_type": "code",
      "source": [
        "max_len = 800\n",
        "\n",
        "from keras.preprocessing.sequence import pad_sequences\n",
        "\n",
        "X = [[word2ind[article_word] if article_word in word2ind else 10 for article_word in article[0]] for article in articles]\n",
        "X = pad_sequences(maxlen=max_len, sequences=X, padding=\"post\", value=word2ind['<pad>'])\n",
        "\n",
        "prices = [[price for price in article[2]] for article in articles]"
      ],
      "execution_count": 0,
      "outputs": []
    },
    {
      "metadata": {
        "id": "srmUOMr5VWn7",
        "colab_type": "code",
        "colab": {}
      },
      "cell_type": "code",
      "source": [
        "from keras.models import load_model\n",
        "\n",
        "model = load_model('model.h5')"
      ],
      "execution_count": 0,
      "outputs": []
    },
    {
      "metadata": {
        "id": "EpU23QQTiWQm",
        "colab_type": "code",
        "colab": {}
      },
      "cell_type": "code",
      "source": [
        "probs = model.predict(np.array(X))"
      ],
      "execution_count": 0,
      "outputs": []
    },
    {
      "metadata": {
        "id": "70xlwi2jJjKh",
        "colab_type": "code",
        "colab": {}
      },
      "cell_type": "code",
      "source": [
        "portfolio = {}\n",
        "log = []\n",
        "profit = .0\n",
        "spent = .0\n",
        "sold = .0\n",
        "shares_sold = 0\n",
        "shares_bought = 0\n",
        "max_profit = 0\n",
        "best_deal = ''\n",
        "\n",
        "preds = np.argmax(probs, axis=-1)\n",
        "\n",
        "for pred_ind, pred in enumerate(preds):\n",
        "    \n",
        "    for i, p in enumerate(pred):\n",
        "        ticker = words[X[pred_ind][i]]\n",
        "        \n",
        "        if ticker == '<pad>':\n",
        "            continue\n",
        "        price = prices[pred_ind][i]\n",
        "        if price == -1 or price == None or price == 'O':\n",
        "            continue\n",
        "        \n",
        "        if tags[p] == '<BUY>':\n",
        "            log.append('buying share {} for {}'.format(ticker, price))\n",
        "            shares_bought += 1\n",
        "            spent += price\n",
        "            if ticker in portfolio:\n",
        "                portfolio[ticker].append(price)\n",
        "            else:\n",
        "                portfolio[ticker] = [price]\n",
        "        \n",
        "        if tags[p] == '<SELL>':\n",
        "            if ticker in portfolio:\n",
        "                buy_price = min(portfolio[ticker])\n",
        "                log.append('selling share {} for {}, bought for {}'.format(ticker, price, buy_price))\n",
        "                sold += buy_price\n",
        "                shares_sold += 1\n",
        "                if len(portfolio[ticker]) == 1:\n",
        "                    del portfolio[ticker]\n",
        "                else:\n",
        "                    portfolio[ticker].remove(buy_price)\n",
        "                profit += price - buy_price\n",
        "                if (price - buy_price) / buy_price > max_profit:\n",
        "                    max_profit = (price - buy_price) / buy_price\n",
        "                    best_deal = ticker\n",
        "            else:\n",
        "                log.append('want to sell share {}, but didn\\'t found it in portfolio'.format(ticker))\n",
        "                \n",
        "log.append(('Profit: {:.2f}$ ({:.2f}%); sold {} shares for the amount of {:.2f}$; ' + \n",
        "            'bought {} shares for the amount of {:.2f}$. Best deal was for {} with ' + \n",
        "            'profit of {:.2f}%.').format(\n",
        "                profit, profit * 100 / sold, shares_sold, sold, shares_bought, \n",
        "                spent, best_deal, max_profit * 100))"
      ],
      "execution_count": 0,
      "outputs": []
    },
    {
      "metadata": {
        "id": "HL3E-56LPJ8G",
        "colab_type": "code",
        "colab": {
          "base_uri": "https://localhost:8080/",
          "height": 53
        },
        "outputId": "76c78ad0-bc84-434d-db7e-661916c4cfd4"
      },
      "cell_type": "code",
      "source": [
        "log[-1]"
      ],
      "execution_count": 155,
      "outputs": [
        {
          "output_type": "execute_result",
          "data": {
            "text/plain": [
              "'Profit: 78.41$ (0.90%); sold 21 shares for the amount of 8666.31$; bought 80 shares for the amount of 18069.16$. Best deal was for AMZN with profit of 7.48%.'"
            ]
          },
          "metadata": {
            "tags": []
          },
          "execution_count": 155
        }
      ]
    },
    {
      "metadata": {
        "id": "Nf5LiCa7hVGG",
        "colab_type": "code",
        "colab": {
          "base_uri": "https://localhost:8080/",
          "height": 2964
        },
        "outputId": "a353931e-558a-4944-91be-2e7d55005e19"
      },
      "cell_type": "code",
      "source": [
        "log"
      ],
      "execution_count": 156,
      "outputs": [
        {
          "output_type": "execute_result",
          "data": {
            "text/plain": [
              "['buying share AAPL for 178.184',\n",
              " \"want to sell share GS, but didn't found it in portfolio\",\n",
              " 'selling share AAPL for 190.225, bought for 178.184',\n",
              " \"want to sell share PCG, but didn't found it in portfolio\",\n",
              " 'buying share GOOGL for 1066.997',\n",
              " \"want to sell share COP, but didn't found it in portfolio\",\n",
              " 'buying share PFE for 43.61',\n",
              " \"want to sell share JD, but didn't found it in portfolio\",\n",
              " \"want to sell share BX, but didn't found it in portfolio\",\n",
              " \"want to sell share JPM, but didn't found it in portfolio\",\n",
              " \"want to sell share WMB, but didn't found it in portfolio\",\n",
              " \"want to sell share TSLA, but didn't found it in portfolio\",\n",
              " 'buying share INFY for 8.965',\n",
              " 'selling share INFY for 8.965, bought for 8.965',\n",
              " 'selling share GOOGL for 1083.92, bought for 1066.997',\n",
              " \"want to sell share AMZN, but didn't found it in portfolio\",\n",
              " 'buying share NFLX for 282.279',\n",
              " 'buying share ADBE for 247.13',\n",
              " 'buying share VRTX for 177.592',\n",
              " 'buying share MA for 201.295',\n",
              " 'buying share V for 140.004',\n",
              " 'buying share KHC for 50.931',\n",
              " \"want to sell share JNPR, but didn't found it in portfolio\",\n",
              " \"want to sell share BEN, but didn't found it in portfolio\",\n",
              " 'buying share HSIC for 87.96',\n",
              " \"want to sell share PDCO, but didn't found it in portfolio\",\n",
              " 'buying share EQT for 19.087',\n",
              " 'buying share EQT for 19.087',\n",
              " \"want to sell share SO, but didn't found it in portfolio\",\n",
              " \"want to sell share ARNC, but didn't found it in portfolio\",\n",
              " \"want to sell share BX, but didn't found it in portfolio\",\n",
              " 'buying share AA for 31.228',\n",
              " 'buying share CRM for 137.883',\n",
              " \"want to sell share TIF, but didn't found it in portfolio\",\n",
              " 'buying share AAPL for 176.048',\n",
              " \"want to sell share WMB, but didn't found it in portfolio\",\n",
              " 'buying share VRTX for 174.969',\n",
              " 'buying share AAPL for 182.043',\n",
              " \"want to sell share WMT, but didn't found it in portfolio\",\n",
              " \"want to sell share NVDA, but didn't found it in portfolio\",\n",
              " 'buying share FB for 135.989',\n",
              " \"want to sell share TSLA, but didn't found it in portfolio\",\n",
              " \"want to sell share XOM, but didn't found it in portfolio\",\n",
              " \"want to sell share JPM, but didn't found it in portfolio\",\n",
              " \"want to sell share KO, but didn't found it in portfolio\",\n",
              " 'buying share AAPL for 178.184',\n",
              " 'buying share AAPL for 178.184',\n",
              " 'selling share FB for 129.015, bought for 135.989',\n",
              " 'buying share AMZN for 1434.118',\n",
              " 'selling share NFLX for 254.107, bought for 282.279',\n",
              " \"want to sell share GOOGL, but didn't found it in portfolio\",\n",
              " \"want to sell share LOW, but didn't found it in portfolio\",\n",
              " \"want to sell share PCG, but didn't found it in portfolio\",\n",
              " 'buying share URBN for 33.893',\n",
              " \"want to sell share TGT, but didn't found it in portfolio\",\n",
              " \"want to sell share ROST, but didn't found it in portfolio\",\n",
              " 'buying share VZ for 60.525',\n",
              " 'buying share WBA for 82.974',\n",
              " \"want to sell share UTX, but didn't found it in portfolio\",\n",
              " 'buying share NKE for 72.703',\n",
              " \"want to sell share DWDP, but didn't found it in portfolio\",\n",
              " 'buying share PCG for 27.098',\n",
              " 'buying share AMD for 21.632',\n",
              " \"want to sell share CHK, but didn't found it in portfolio\",\n",
              " 'buying share UTX for 123.062',\n",
              " 'buying share ASNS for 3.593',\n",
              " \"want to sell share th, but didn't found it in portfolio\",\n",
              " 'buying share VZ for 60.525',\n",
              " 'buying share WBA for 82.974',\n",
              " 'buying share LOW for 84.895',\n",
              " 'buying share KSS for 62.877',\n",
              " \"want to sell share BBY, but didn't found it in portfolio\",\n",
              " 'buying share NVDA for 158.156',\n",
              " 'buying share FL for 52.935',\n",
              " 'selling share AMZN for 1541.393, bought for 1434.118',\n",
              " 'buying share NKE for 72.281',\n",
              " \"want to sell share BIDU, but didn't found it in portfolio\",\n",
              " 'selling share ADBE for 212.41, bought for 247.13',\n",
              " \"want to sell share MKC, but didn't found it in portfolio\",\n",
              " \"want to sell share MKC, but didn't found it in portfolio\",\n",
              " 'buying share MA for 187.984',\n",
              " \"want to sell share WMT, but didn't found it in portfolio\",\n",
              " 'buying share AMZN for 1579.188',\n",
              " \"want to sell share BABA, but didn't found it in portfolio\",\n",
              " \"want to sell share BIDU, but didn't found it in portfolio\",\n",
              " 'buying share FB for 135.56',\n",
              " 'buying share AMZN for 1579.188',\n",
              " \"want to sell share GM, but didn't found it in portfolio\",\n",
              " 'buying share XOM for 77.5',\n",
              " \"want to sell share TEF, but didn't found it in portfolio\",\n",
              " 'buying share CVS for 77.274',\n",
              " 'buying share CVS for 77.274',\n",
              " 'buying share CVS for 77.274',\n",
              " \"want to sell share th, but didn't found it in portfolio\",\n",
              " 'buying share CRM for 137.528',\n",
              " 'selling share FB for 136.033, bought for 135.56',\n",
              " 'buying share TSLA for 344.15',\n",
              " \"want to sell share NFLX, but didn't found it in portfolio\",\n",
              " 'buying share AMZN for 1610.922',\n",
              " \"want to sell share SHOP, but didn't found it in portfolio\",\n",
              " \"want to sell share BHC, but didn't found it in portfolio\",\n",
              " 'buying share XOM for 78.533',\n",
              " 'selling share XOM for 78.533, bought for 77.5',\n",
              " \"want to sell share ANF, but didn't found it in portfolio\",\n",
              " \"want to sell share BA, but didn't found it in portfolio\",\n",
              " \"want to sell share MCD, but didn't found it in portfolio\",\n",
              " 'selling share AMZN for 1663.696, bought for 1579.188',\n",
              " 'buying share NFLX for 278.96',\n",
              " \"want to sell share GE, but didn't found it in portfolio\",\n",
              " \"want to sell share MU, but didn't found it in portfolio\",\n",
              " 'buying share UNH for 279.33',\n",
              " \"want to sell share JACK, but didn't found it in portfolio\",\n",
              " 'buying share BJ for 22.275',\n",
              " \"want to sell share M, but didn't found it in portfolio\",\n",
              " 'buying share TSLA for 351.41',\n",
              " 'buying share BAC for 27.503',\n",
              " \"want to sell share GS, but didn't found it in portfolio\",\n",
              " 'buying share NFLX for 274.387',\n",
              " 'buying share AAPL for 172.151',\n",
              " \"want to sell share BA, but didn't found it in portfolio\",\n",
              " 'buying share RACE for 109.278',\n",
              " 'buying share KORS for 45.345',\n",
              " 'buying share KHC for 51.25',\n",
              " \"want to sell share FB, but didn't found it in portfolio\",\n",
              " 'selling share AAPL for 175.083, bought for 172.151',\n",
              " 'selling share AMZN for 1531.03, bought for 1579.188',\n",
              " 'buying share MSFT for 110.592',\n",
              " \"want to sell share OPK, but didn't found it in portfolio\",\n",
              " 'buying share BA for 312.533',\n",
              " 'buying share HD for 177.573',\n",
              " \"want to sell share GM, but didn't found it in portfolio\",\n",
              " 'buying share SNE for 50.635',\n",
              " 'buying share MSFT for 103.194',\n",
              " \"want to sell share ATVI, but didn't found it in portfolio\",\n",
              " \"want to sell share EA, but didn't found it in portfolio\",\n",
              " 'selling share SNE for 50.635, bought for 50.635',\n",
              " \"want to sell share EA, but didn't found it in portfolio\",\n",
              " \"want to sell share CSCO, but didn't found it in portfolio\",\n",
              " \"want to sell share MO, but didn't found it in portfolio\",\n",
              " 'buying share PM for 85.04',\n",
              " 'buying share FB for 129.015',\n",
              " 'selling share AAPL for 178.184, bought for 176.048',\n",
              " 'selling share FB for 129.015, bought for 129.015',\n",
              " \"want to sell share NIO, but didn't found it in portfolio\",\n",
              " \"want to sell share NIO, but didn't found it in portfolio\",\n",
              " 'buying share TAP for 66.612',\n",
              " 'selling share NVDA for 135.96, bought for 158.156',\n",
              " \"want to sell share ALGN, but didn't found it in portfolio\",\n",
              " 'buying share CRM for 114.117',\n",
              " \"want to sell share BILI, but didn't found it in portfolio\",\n",
              " 'buying share GS for 194.721',\n",
              " 'buying share AMZN for 1617.126',\n",
              " \"want to sell share AMGN, but didn't found it in portfolio\",\n",
              " \"want to sell share SPGI, but didn't found it in portfolio\",\n",
              " \"want to sell share MS, but didn't found it in portfolio\",\n",
              " 'buying share HUM for 320.987',\n",
              " 'selling share UNH for 278.06, bought for 279.33',\n",
              " \"want to sell share WCG, but didn't found it in portfolio\",\n",
              " 'buying share W for 104.185',\n",
              " 'buying share I for 25.025',\n",
              " 'buying share GS for 196.16',\n",
              " 'buying share V for 135.964',\n",
              " 'buying share BABA for 155.151',\n",
              " 'buying share AAPL for 178.184',\n",
              " 'selling share NFLX for 259.18, bought for 274.387',\n",
              " 'buying share MS for 44.37',\n",
              " \"want to sell share C, but didn't found it in portfolio\",\n",
              " 'buying share GS for 194.24',\n",
              " 'buying share BAC for 27.584',\n",
              " \"want to sell share JPM, but didn't found it in portfolio\",\n",
              " 'selling share GS for 191.508, bought for 194.24',\n",
              " 'selling share BA for 326.265, bought for 312.533',\n",
              " \"want to sell share FB, but didn't found it in portfolio\",\n",
              " 'selling share GS for 191.508, bought for 194.721',\n",
              " 'Profit: 78.41$ (0.90%); sold 21 shares for the amount of 8666.31$; bought 80 shares for the amount of 18069.16$. Best deal was for AMZN with profit of 7.48%.']"
            ]
          },
          "metadata": {
            "tags": []
          },
          "execution_count": 156
        }
      ]
    },
    {
      "metadata": {
        "id": "-GameI48GtdV",
        "colab_type": "code",
        "colab": {}
      },
      "cell_type": "code",
      "source": [
        ""
      ],
      "execution_count": 0,
      "outputs": []
    }
  ]
}