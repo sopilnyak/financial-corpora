{
 "cells": [
  {
   "cell_type": "code",
   "execution_count": 96,
   "metadata": {},
   "outputs": [],
   "source": [
    "import os\n",
    "import spacy\n",
    "import pandas as pd\n",
    "from whoosh.index import create_in\n",
    "from whoosh.fields import *\n",
    "from whoosh.analysis.acore import Composable\n",
    "from whoosh.analysis import IDAnalyzer, LowercaseFilter, StopFilter\n",
    "\n",
    "path = \"../financial-corpus\""
   ]
  },
  {
   "cell_type": "code",
   "execution_count": 97,
   "metadata": {},
   "outputs": [],
   "source": [
    "schema = Schema(title=TEXT(stored=True), \n",
    "                filename=ID(stored=True),\n",
    "                date=DATETIME(stored=True),\n",
    "                agency=TEXT(stored=True, analyzer=IDAnalyzer()),\n",
    "                author=TEXT(stored=True, analyzer=IDAnalyzer()),\n",
    "                content=TEXT)\n",
    "ix = create_in(path + \"/index\", schema)\n"
   ]
  },
  {
   "cell_type": "code",
   "execution_count": 117,
   "metadata": {},
   "outputs": [],
   "source": [
    "class SpacyTokenizer(Composable):\n",
    "    def __init__(self):\n",
    "        self.tokenizer = spacy.load('en_core_web_sm')\n",
    "        \n",
    "    def __call__(self, value):\n",
    "        tokens = self.tokenizer(value)\n",
    "        for token in tokens:\n",
    "            yield token.text  \n",
    "    \n",
    "analyzer = SpacyTokenizer() | LowercaseFilter() | StopFilter()\n",
    "writer = ix.writer()"
   ]
  },
  {
   "cell_type": "code",
   "execution_count": 99,
   "metadata": {},
   "outputs": [],
   "source": [
    "files = list(filter(lambda x: x[-4:] == \".txt\", os.listdir(path + \"/data\")))"
   ]
  },
  {
   "cell_type": "code",
   "execution_count": 118,
   "metadata": {},
   "outputs": [
    {
     "data": {
      "application/vnd.jupyter.widget-view+json": {
       "model_id": "74602201ee584221a846af7ec677df2e",
       "version_major": 2,
       "version_minor": 0
      },
      "text/html": [
       "<p>Failed to display Jupyter Widget of type <code>HBox</code>.</p>\n",
       "<p>\n",
       "  If you're reading this message in the Jupyter Notebook or JupyterLab Notebook, it may mean\n",
       "  that the widgets JavaScript is still loading. If this message persists, it\n",
       "  likely means that the widgets JavaScript library is either not installed or\n",
       "  not enabled. See the <a href=\"https://ipywidgets.readthedocs.io/en/stable/user_install.html\">Jupyter\n",
       "  Widgets Documentation</a> for setup instructions.\n",
       "</p>\n",
       "<p>\n",
       "  If you're reading this message in another frontend (for example, a static\n",
       "  rendering on GitHub or <a href=\"https://nbviewer.jupyter.org/\">NBViewer</a>),\n",
       "  it may mean that your frontend doesn't currently support widgets.\n",
       "</p>\n"
      ],
      "text/plain": [
       "HBox(children=(IntProgress(value=0, max=10149), HTML(value='')))"
      ]
     },
     "metadata": {},
     "output_type": "display_data"
    }
   ],
   "source": [
    "from tqdm import tqdm_notebook as tqdm\n",
    "\n",
    "for filename in tqdm(files):\n",
    "    try:\n",
    "        with open(os.path.join(path, \"data\", filename), encoding=\"utf-8\") as file:\n",
    "            text = file.read()\n",
    "\n",
    "        # csv не смог в экранированные запятые, пришлось применять тяжелую артиллерию\n",
    "        csv_data = pd.read_csv(os.path.join(path, \"data\", filename[:-4] + '.csv'))\n",
    "        csv_data = csv_data.where((pd.notnull(csv_data)), None)\n",
    "\n",
    "        writer.add_document(title=csv_data[\"title\"][0], filename=filename, \n",
    "                            date=pd.to_datetime(csv_data[\"timestamp\"][0]),\n",
    "                            agency=csv_data[\"agency\"][0], author=csv_data[\"author\"][0], content=text) \n",
    "    except Exception as ex:\n",
    "        print(filename)\n",
    "        print(ex)\n"
   ]
  },
  {
   "cell_type": "code",
   "execution_count": 119,
   "metadata": {},
   "outputs": [],
   "source": [
    "writer.commit()"
   ]
  }
 ],
 "metadata": {
  "kernelspec": {
   "display_name": "Python 3",
   "language": "python",
   "name": "python3"
  },
  "language_info": {
   "codemirror_mode": {
    "name": "ipython",
    "version": 3
   },
   "file_extension": ".py",
   "mimetype": "text/x-python",
   "name": "python",
   "nbconvert_exporter": "python",
   "pygments_lexer": "ipython3",
   "version": "3.6.6"
  }
 },
 "nbformat": 4,
 "nbformat_minor": 2
}
