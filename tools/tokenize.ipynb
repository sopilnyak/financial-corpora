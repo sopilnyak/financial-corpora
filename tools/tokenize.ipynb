{
 "cells": [
  {
   "cell_type": "code",
   "execution_count": 1,
   "metadata": {},
   "outputs": [
    {
     "name": "stdout",
     "output_type": "stream",
     "text": [
      "Requirement already satisfied: en_core_web_sm==2.0.0 from https://github.com/explosion/spacy-models/releases/download/en_core_web_sm-2.0.0/en_core_web_sm-2.0.0.tar.gz#egg=en_core_web_sm==2.0.0 in c:\\users\\pavel\\anaconda\\lib\\site-packages\n",
      "\n",
      "    Error: Couldn't link model to 'en'\n",
      "    Creating a symlink in spacy/data failed. Make sure you have the required\n",
      "    permissions and try re-running the command as admin, or use a\n",
      "    virtualenv. You can still import the model as a module and call its\n",
      "    load() method, or create the symlink manually.\n",
      "\n",
      "    C:\\Users\\Pavel\\Anaconda\\lib\\site-packages\\en_core_web_sm -->\n",
      "    C:\\Users\\Pavel\\Anaconda\\lib\\site-packages\\spacy\\data\\en\n",
      "\n",
      "\n",
      "    Creating a shortcut link for 'en' didn't work (maybe you don't have\n",
      "    admin permissions?), but you can still load the model via its full\n",
      "    package name: nlp = spacy.load('{name}')\n",
      "    Download successful but linking failed\n",
      "\n"
     ]
    },
    {
     "name": "stderr",
     "output_type": "stream",
     "text": [
      "You are using pip version 9.0.1, however version 18.1 is available.\n",
      "You should consider upgrading via the 'python -m pip install --upgrade pip' command.\n"
     ]
    }
   ],
   "source": [
    "import os\n",
    "import spacy\n",
    "!python -m spacy download en"
   ]
  },
  {
   "cell_type": "code",
   "execution_count": 21,
   "metadata": {},
   "outputs": [],
   "source": [
    "tokenizer = spacy.load('en_core_web_sm')\n",
    "total_tokens = 0\n",
    "total_sentences = 0\n",
    "files = list(filter(lambda x: x[-4:] == \".txt\", os.listdir(\"./data\")))"
   ]
  },
  {
   "cell_type": "code",
   "execution_count": null,
   "metadata": {
    "scrolled": true
   },
   "outputs": [
    {
     "data": {
      "application/vnd.jupyter.widget-view+json": {
       "model_id": "0b045dbffc5247e8ace8883a1313643c",
       "version_major": 2,
       "version_minor": 0
      },
      "text/html": [
       "<p>Failed to display Jupyter Widget of type <code>HBox</code>.</p>\n",
       "<p>\n",
       "  If you're reading this message in the Jupyter Notebook or JupyterLab Notebook, it may mean\n",
       "  that the widgets JavaScript is still loading. If this message persists, it\n",
       "  likely means that the widgets JavaScript library is either not installed or\n",
       "  not enabled. See the <a href=\"https://ipywidgets.readthedocs.io/en/stable/user_install.html\">Jupyter\n",
       "  Widgets Documentation</a> for setup instructions.\n",
       "</p>\n",
       "<p>\n",
       "  If you're reading this message in another frontend (for example, a static\n",
       "  rendering on GitHub or <a href=\"https://nbviewer.jupyter.org/\">NBViewer</a>),\n",
       "  it may mean that your frontend doesn't currently support widgets.\n",
       "</p>\n"
      ],
      "text/plain": [
       "HBox(children=(IntProgress(value=0, max=10149), HTML(value='')))"
      ]
     },
     "metadata": {},
     "output_type": "display_data"
    }
   ],
   "source": [
    "from tqdm import tqdm_notebook as tqdm\n",
    "\n",
    "for filename in tqdm(files):\n",
    "    tokens_filename = os.path.join(\"./data\", filename[:-4] + '.tokens')\n",
    "    segments_filename = os.path.join(\"./data\", filename[:-4] + '.segments')\n",
    "    \n",
    "    if os.path.exists(tokens_filename) and os.path.exists(segments_filename):\n",
    "        continue\n",
    "        \n",
    "    with open(os.path.join(\"./data\", filename), encoding=\"utf-8\") as file:\n",
    "        try:\n",
    "            text = file.read()\n",
    "            doc = tokenizer(text)\n",
    "        except Exception:\n",
    "            print(filename)\n",
    "            continue\n",
    "            \n",
    "        with open(tokens_filename, 'w', encoding='utf-8') as file:\n",
    "            file.write(\"(id, start_pos, end_pos, text)\\n\")\n",
    "            file.write('\\n'.join([str((token.i, token.idx, token.idx + len(token.text), token.text)) for token in doc]))\n",
    "            total_tokens += doc[-1].i + 1\n",
    "\n",
    "        with open(segments_filename, 'w', encoding='utf-8') as file:\n",
    "            file.write(\"(id, start_token, end_token, text)\\n\")\n",
    "            sents = list(doc.sents)\n",
    "            file.write('\\n'.join([str((i, s.start, s.end, s.text)) for i, s in enumerate(sents)]))\n",
    "            total_sentences += len(sents)"
   ]
  },
  {
   "cell_type": "code",
   "execution_count": 23,
   "metadata": {},
   "outputs": [
    {
     "name": "stdout",
     "output_type": "stream",
     "text": [
      "3781380 150900\n"
     ]
    }
   ],
   "source": [
    "print(total_tokens, total_sentences)"
   ]
  },
  {
   "cell_type": "code",
   "execution_count": 25,
   "metadata": {},
   "outputs": [
    {
     "name": "stdout",
     "output_type": "stream",
     "text": [
      "3795412 151509\n"
     ]
    }
   ],
   "source": [
    "print(total_tokens, total_sentences)"
   ]
  },
  {
   "cell_type": "code",
   "execution_count": null,
   "metadata": {},
   "outputs": [],
   "source": []
  }
 ],
 "metadata": {
  "kernelspec": {
   "display_name": "Python 3",
   "language": "python",
   "name": "python3"
  },
  "language_info": {
   "codemirror_mode": {
    "name": "ipython",
    "version": 3
   },
   "file_extension": ".py",
   "mimetype": "text/x-python",
   "name": "python",
   "nbconvert_exporter": "python",
   "pygments_lexer": "ipython3",
   "version": "3.6.6"
  }
 },
 "nbformat": 4,
 "nbformat_minor": 2
}
